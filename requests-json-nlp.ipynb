{
 "cells": [
  {
   "cell_type": "markdown",
   "metadata": {},
   "source": [
    "# Web Mining and Applied NLP (44-620)\n",
    "\n",
    "## Requests, JSON, and NLP\n",
    "\n",
    "### Student Name: Derek Graves\n",
    "\n",
    "### GitHup Repo: https://github.com/dgraves4/json-sentiment\n",
    "\n",
    "Perform the tasks described in the Markdown cells below.  When you have completed the assignment make sure your code cells have all been run (and have output beneath them) and ensure you have committed and pushed ALL of your changes to your assignment repository.\n",
    "\n",
    "Make sure you have [installed spaCy and its pipeline](https://spacy.io/usage#quickstart) and [spaCyTextBlob](https://spacy.io/universe/project/spacy-textblob)\n",
    "\n",
    "Every question that requires you to write code will have a code cell underneath it; you may either write your entire solution in that cell or write it in a python file (`.py`), then import and run the appropriate code to answer the question.\n",
    "\n",
    "This assignment requires that you write additional files (either JSON or pickle files); make sure to submit those files in your repository as well."
   ]
  },
  {
   "cell_type": "code",
   "execution_count": 116,
   "metadata": {},
   "outputs": [
    {
     "name": "stdout",
     "output_type": "stream",
     "text": [
      "All prereqs installed.\n",
      "Package            Version\n",
      "------------------ -----------\n",
      "annotated-types    0.6.0\n",
      "asttokens          2.4.1\n",
      "blis               0.7.11\n",
      "catalogue          2.0.10\n",
      "certifi            2024.2.2\n",
      "charset-normalizer 3.3.2\n",
      "click              8.1.7\n",
      "cloudpathlib       0.16.0\n",
      "colorama           0.4.6\n",
      "comm               0.2.2\n",
      "confection         0.1.4\n",
      "cymem              2.0.8\n",
      "debugpy            1.8.1\n",
      "decorator          5.1.1\n",
      "en-core-web-sm     3.7.1\n",
      "executing          2.0.1\n",
      "idna               3.6\n",
      "ipykernel          6.29.3\n",
      "ipython            8.22.2\n",
      "jedi               0.19.1\n",
      "Jinja2             3.1.3\n",
      "joblib             1.3.2\n",
      "jupyter_client     8.6.1\n",
      "jupyter_core       5.7.2\n",
      "langcodes          3.3.0\n",
      "MarkupSafe         2.1.5\n",
      "matplotlib-inline  0.1.6\n",
      "murmurhash         1.0.10\n",
      "nest-asyncio       1.6.0\n",
      "nltk               3.8.1\n",
      "numpy              1.26.4\n",
      "packaging          24.0\n",
      "parso              0.8.3\n",
      "pip                24.0\n",
      "platformdirs       4.2.0\n",
      "preshed            3.0.9\n",
      "prompt-toolkit     3.0.43\n",
      "psutil             5.9.8\n",
      "pure-eval          0.2.2\n",
      "pydantic           2.6.4\n",
      "pydantic_core      2.16.3\n",
      "Pygments           2.17.2\n",
      "python-dateutil    2.9.0.post0\n",
      "pywin32            306\n",
      "pyzmq              25.1.2\n",
      "regex              2023.12.25\n",
      "requests           2.31.0\n",
      "setuptools         69.2.0\n",
      "six                1.16.0\n",
      "smart-open         6.4.0\n",
      "spacy              3.7.4\n",
      "spacy-legacy       3.0.12\n",
      "spacy-loggers      1.0.5\n",
      "spacytextblob      4.0.0\n",
      "srsly              2.4.8\n",
      "stack-data         0.6.3\n",
      "textblob           0.15.3\n",
      "thinc              8.2.3\n",
      "tornado            6.4\n",
      "tqdm               4.66.2\n",
      "traitlets          5.14.2\n",
      "typer              0.9.4\n",
      "typing_extensions  4.10.0\n",
      "urllib3            2.2.1\n",
      "wasabi             1.1.2\n",
      "wcwidth            0.2.13\n",
      "weasel             0.3.4\n",
      "wheel              0.43.0\n"
     ]
    }
   ],
   "source": [
    "import json\n",
    "import pickle\n",
    "\n",
    "import requests\n",
    "import spacy\n",
    "from spacytextblob.spacytextblob import SpacyTextBlob\n",
    "\n",
    "print('All prereqs installed.')\n",
    "!pip list"
   ]
  },
  {
   "cell_type": "markdown",
   "metadata": {},
   "source": [
    "#### Question 1 "
   ]
  },
  {
   "cell_type": "markdown",
   "metadata": {},
   "source": [
    "1. The following code accesses the [lyrics.ovh](https://lyricsovh.docs.apiary.io/#reference/0/lyrics-of-a-song/search) public api, searches for the lyrics of a song, and stores it in a dictionary object.  Write the resulting json to a file (either a JSON file or a pickle file; you choose). You will read in the contents of this file for future questions so we do not need to frequently access the API."
   ]
  },
  {
   "cell_type": "code",
   "execution_count": 117,
   "metadata": {},
   "outputs": [],
   "source": [
    "import requests\n",
    "import json\n",
    "\n",
    "result = json.loads(requests.get('https://api.lyrics.ovh/v1/They Might Be Giants/Birdhouse in your soul').text)\n"
   ]
  },
  {
   "cell_type": "markdown",
   "metadata": {},
   "source": [
    "#### Question 1 Response:"
   ]
  },
  {
   "cell_type": "code",
   "execution_count": 118,
   "metadata": {},
   "outputs": [],
   "source": [
    "\n",
    "# Fetching the lyrics and storing them in a dictionary object\n",
    "result = json.loads(requests.get('https://api.lyrics.ovh/v1/They Might Be Giants/Birdhouse in your soul').text)\n",
    "\n",
    "# Writing the JSON data to a file\n",
    "with open('birdhouse_lyrics.json', 'w') as file:\n",
    "    json.dump(result, file)"
   ]
  },
  {
   "cell_type": "markdown",
   "metadata": {},
   "source": [
    "#### Question 2"
   ]
  },
  {
   "cell_type": "markdown",
   "metadata": {},
   "source": [
    "Read in the contents of your file. Print the lyrics of the song (not the entire dictionary!) and use spaCyTextBlob to perform sentiment analysis on the lyrics. Print the polarity score of the sentiment analysis. Given that the range of the polarity score is [-1.0,1.0] which corresponds to how positive or negative the text in question is, do you think the lyrics have a more positive or negative connotaion? Answer this question in a comment in your code cell."
   ]
  },
  {
   "cell_type": "markdown",
   "metadata": {},
   "source": [
    "#### Question 2 Response: "
   ]
  },
  {
   "cell_type": "code",
   "execution_count": 119,
   "metadata": {},
   "outputs": [
    {
     "name": "stdout",
     "output_type": "stream",
     "text": [
      "Lyrics:\n",
      "Paroles de la chanson Birdhouse In Your Soul par They Might Be Giants\n",
      "I'm Your Only Friend\n",
      "\n",
      "I'm Not Your Only Friend\n",
      "\n",
      "But I'm A Little Glowing Friend\n",
      "\n",
      "But Really I'm Not Actually Your Friend\n",
      "\n",
      "But I Am\n",
      "\n",
      "Blue Canary In The Outlet By The Light Switch\n",
      "\n",
      "Who Watches Over You\n",
      "\n",
      "Make A Little Birdhouse In Your Soul\n",
      "\n",
      "Not To Put Too Fine A Point On It\n",
      "\n",
      "Say I'm The Only Bee In Your Bonnet\n",
      "\n",
      "Make A Little Birdhouse In Your Soul\n",
      "\n",
      "I Have A Secret To Tell\n",
      "\n",
      "From My Electrical Well\n",
      "\n",
      "It's A Simple Message And I'm Leaving Out The Whistles And Bells\n",
      "\n",
      "So The Room Must Listen To Me\n",
      "\n",
      "\n",
      "Filibuster Vigilantly\n",
      "\n",
      "My Name Is Blue Canary One Note Spelled Lite\n",
      "\n",
      "My Story's Infinite\n",
      "\n",
      "Like The Longines Symphonette It Doesn't Rest\n",
      "\n",
      "Blue Canary In The Outlet By The Light Switch\n",
      "\n",
      "Who Watches Over You\n",
      "\n",
      "Make A Little Birdhouse In Your Soul\n",
      "\n",
      "Not To Put Too Fine A Point On It\n",
      "\n",
      "Say I'm The Only Bee In Your Bonnet\n",
      "\n",
      "Make A Little Birdhouse In Your Soul\n",
      "\n",
      "I'm Your Only Friend\n",
      "\n",
      "I'm Not Your Only Friend\n",
      "\n",
      "But I'm A Little Glowing Friend\n",
      "\n",
      "But Really I'm Not Actually Your Friend\n",
      "\n",
      "But I Am\n",
      "\n",
      "There's A Picture Opposite Me\n",
      "\n",
      "Of My Primitive Ancestry\n",
      "\n",
      "Which Stood On Rocky Shores And Kept The Beaches Shipwreck Free\n",
      "\n",
      "\n",
      "Though I Respect That A Lot\n",
      "\n",
      "I'd Be Fired If That Were My Job\n",
      "\n",
      "After Killing Jason Off And Countless Screaming Argonauts\n",
      "\n",
      "Bluebird Of Friendliness\n",
      "\n",
      "Like Guardian Angels Its Always Near\n",
      "\n",
      "Blue Canary In The Outlet By The Light Switch\n",
      "\n",
      "Who Watches Over You\n",
      "\n",
      "Make A Little Birdhouse In Your Soul\n",
      "\n",
      "Not To Put Too Fine A Point On It\n",
      "\n",
      "Say I'm The Only Bee In Your Bonnet\n",
      "\n",
      "Make A Little Birdhouse In Your Soul\n",
      "\n",
      "(And While You're At It\n",
      "\n",
      "Keep The Nightlight On Inside The\n",
      "\n",
      "Birdhouse In Your Soul)\n",
      "\n",
      "Not To Put Too Fine A Point On It\n",
      "\n",
      "Say I'm The Only Bee In Your Bonnet\n",
      "\n",
      "Make A Little Birdhouse In Your Soul\n",
      "\n",
      "\n",
      "Blue Canary In The Outlet By The Light Switch (And While You're At It)\n",
      "\n",
      "Who Watches Over You (Keep The Nightlight On Inside The)\n",
      "\n",
      "Make A L\n",
      "Polarity Score: 0.04418859649122807\n"
     ]
    }
   ],
   "source": [
    "# Load the JSON file containing the lyrics\n",
    "with open('birdhouse_lyrics.json', 'r') as file:\n",
    "    data = json.load(file)\n",
    "    lyrics = data['lyrics']\n",
    "\n",
    "# Print the lyrics\n",
    "print(\"Lyrics:\")\n",
    "print(lyrics)\n",
    "\n",
    "# Perform sentiment analysis using spaCyTextBlob\n",
    "nlp = spacy.load('en_core_web_sm')\n",
    "nlp.add_pipe('spacytextblob')\n",
    "doc = nlp(lyrics)\n",
    "polarity_score = doc._.polarity\n",
    "\n",
    "# Print the polarity score\n",
    "print(\"Polarity Score:\", polarity_score)\n",
    "\n",
    "# Based on a polarity score of approximately 0.04, we can infer that the sentiment of the lyrics is slightly positive, but closer to neutral overall. \n"
   ]
  },
  {
   "cell_type": "markdown",
   "metadata": {},
   "source": [
    "3. Write a function that takes an artist, song, and filename, accesses the lyrics.ovh api to get the song lyrics, and writes the results to the specified filename.  Test this function by getting the lyrics to any four songs of your choice and storing them in different files."
   ]
  },
  {
   "cell_type": "code",
   "execution_count": 120,
   "metadata": {},
   "outputs": [
    {
     "name": "stdout",
     "output_type": "stream",
     "text": [
      "Lyrics for 'Hurt' by Johnny Cash. saved to 'hurt_lyrics.txt'.\n",
      "Lyrics for 'Eye of the Tiger' by Survivor saved to 'eye_of_the_tiger_lyrics.txt'.\n",
      "Lyrics for 'I Will Survive' by Gloria Gaynor saved to 'i_will_survive_lyrics.txt'.\n",
      "Lyrics for 'Here Comes the Sun' by The Beatles saved to 'here_comes_the_sun_lyrics.txt'.\n"
     ]
    }
   ],
   "source": [
    "def get_lyrics_and_save(artist, song, filename):\n",
    "    # Constructing the URL for the lyrics API\n",
    "    url = f'https://api.lyrics.ovh/v1/{artist}/{song}'\n",
    "    \n",
    "    # Making a GET request to the API\n",
    "    response = requests.get(url)\n",
    "    \n",
    "    # Checking if the request was successful (status code 200)\n",
    "    if response.status_code == 200:\n",
    "        # Extracting the lyrics from the response\n",
    "        data = response.json()\n",
    "        lyrics = data.get('lyrics')\n",
    "        \n",
    "        # Writing the lyrics to the specified file\n",
    "        with open(filename, 'w') as file:\n",
    "            file.write(lyrics)\n",
    "        print(f\"Lyrics for '{song}' by {artist} saved to '{filename}'.\")\n",
    "    else:\n",
    "        # Handling different types of errors\n",
    "        if response.status_code == 404:\n",
    "            print(f\"Failed to fetch lyrics for '{song}' by {artist}. Song not found.\")\n",
    "        else:\n",
    "            print(f\"Failed to fetch lyrics for '{song}' by {artist}. Error: {response.status_code}\")\n",
    "\n",
    "# Testing the function with four new songs\n",
    "get_lyrics_and_save('Johnny Cash.', 'Hurt', 'hurt_lyrics.txt')\n",
    "get_lyrics_and_save('Survivor', 'Eye of the Tiger', 'eye_of_the_tiger_lyrics.txt')\n",
    "get_lyrics_and_save('Gloria Gaynor', 'I Will Survive', 'i_will_survive_lyrics.txt')\n",
    "get_lyrics_and_save('The Beatles', 'Here Comes the Sun', 'here_comes_the_sun_lyrics.txt')\n"
   ]
  },
  {
   "cell_type": "markdown",
   "metadata": {},
   "source": [
    "#### Question 4"
   ]
  },
  {
   "cell_type": "markdown",
   "metadata": {},
   "source": [
    "4. Write a function that takes the name of a file that contains song lyrics, loads the file, performs sentiment analysis, and returns the polarity score.  Use this function to print the polarity scores (with the name of the song) of the three files you created in question 3.  Does the reported polarity match your understanding of the song's lyrics? Why or why not do you think that might be?  Answer the questions in either a comment in the code cell or a markdown cell under the code cell."
   ]
  },
  {
   "cell_type": "markdown",
   "metadata": {},
   "source": [
    "#### Question 4 Response - Part 1:"
   ]
  },
  {
   "cell_type": "code",
   "execution_count": 121,
   "metadata": {},
   "outputs": [
    {
     "name": "stdout",
     "output_type": "stream",
     "text": [
      "Polarity score for 'Hurt by Johnny Cash': 0.06662257495590829\n",
      "Polarity score for 'Eye of the Tiger by Survivor': 0.07175925925925926\n",
      "Polarity score for 'I Will Survive by Gloria Gaynor': 0.0350657367324034\n"
     ]
    }
   ],
   "source": [
    "def analyze_sentiment(filename, song_title):\n",
    "    # Load the file containing song lyrics\n",
    "    with open(filename, 'r') as file:\n",
    "        lyrics = file.read()\n",
    "    \n",
    "    # Perform sentiment analysis using spaCyTextBlob\n",
    "    nlp = spacy.load('en_core_web_sm')\n",
    "    nlp.add_pipe('spacytextblob')\n",
    "    doc = nlp(lyrics)\n",
    "    polarity_score = doc._.polarity\n",
    "    \n",
    "    # Print the polarity score with the full song title\n",
    "    print(f\"Polarity score for '{song_title}': {polarity_score}\")\n",
    "    \n",
    "    return polarity_score\n",
    "\n",
    "# Testing the function with the three files created in question 3\n",
    "file_titles = [\n",
    "    ('hurt_lyrics.txt', 'Hurt by Johnny Cash'),\n",
    "    ('eye_of_the_tiger_lyrics.txt', 'Eye of the Tiger by Survivor'),\n",
    "    ('i_will_survive_lyrics.txt', 'I Will Survive by Gloria Gaynor')\n",
    "]\n",
    "\n",
    "for file_name, title in file_titles:\n",
    "    polarity_score = analyze_sentiment(file_name, title)\n",
    "\n"
   ]
  },
  {
   "cell_type": "markdown",
   "metadata": {},
   "source": [
    "#### Question 4 Response - Part 2: "
   ]
  },
  {
   "cell_type": "markdown",
   "metadata": {},
   "source": [
    "Does the reported polarity match your understanding of the song's lyrics? Why or why not do you think that might be? \n",
    "\n",
    "The polarity scores for 'Eye of the Tiger' and 'I Will Survive' align well with the positive themes of these songs, reflecting their messages of empowerment and resilience. However, I would have anticipated even higher scores closer to 1.0 on the positivity scale. The lower scores might be attributed to the algorithm's individual interpretation or the complexity of the lyrics.\n",
    "\n",
    "The polarity score for 'Hurt' is unexpected considering its somber and melancholic lyrics. While the algorithm assigns a more neutral score, this discrepancy could stem from the song's nuanced emotional content and the algorithm's interpretation of certain phrases and words. It seems to highlight some of the limitations of sentiment analysis algorithms in dealing with human emotional themes in songs and lyrics.\n",
    "\n",
    "Overall, while polarity scores offer valuable insights, they should be interpreted with caution, especially for songs with complex and emotional \"human\" themes.   As a potential remedy for polarity scores, perhaps one could search out benchmarks for data for polarity scores that were generated by other sentiment algorithms out there to see how this particular one stacks up. "
   ]
  }
 ],
 "metadata": {
  "kernelspec": {
   "display_name": "Python 3",
   "language": "python",
   "name": "python3"
  },
  "language_info": {
   "codemirror_mode": {
    "name": "ipython",
    "version": 3
   },
   "file_extension": ".py",
   "mimetype": "text/x-python",
   "name": "python",
   "nbconvert_exporter": "python",
   "pygments_lexer": "ipython3",
   "version": "3.12.2"
  }
 },
 "nbformat": 4,
 "nbformat_minor": 4
}
